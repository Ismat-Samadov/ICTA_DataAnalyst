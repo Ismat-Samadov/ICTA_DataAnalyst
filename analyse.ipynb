{
 "cells": [
  {
   "cell_type": "code",
   "execution_count": 3,
   "metadata": {},
   "outputs": [
    {
     "data": {
      "text/plain": [
       "(        Date Department Employee  Entry   Exit\n",
       " 0 2024-07-01         IT    Aynur   9:05  14:50\n",
       " 1 2024-07-02         IT    Aynur   9:30  18:30\n",
       " 2 2024-07-03         IT    Aynur  10:10  18:20\n",
       " 3 2024-07-04         IT    Aynur   9:05  18:12\n",
       " 4 2024-07-05         IT    Aynur   9:01  18:11,\n",
       "   Department Employee      Start        End\n",
       " 0         IT    Aynur 2024-07-10 2024-07-11\n",
       " 1  Marketinq    Mahir 2024-07-24 2024-08-05\n",
       " 2  Marketinq    Rasim 2024-08-26 2024-09-03,\n",
       "         Date Department Employee     Start       End\n",
       " 0 2024-09-23  Marketinq    Mahir  14:00:00  18:00:00\n",
       " 1 2024-08-26  Marketinq    Mahir  14:00:00  18:00:00\n",
       " 2 2024-09-13         IT    Rəsul  15:00:00  18:00:00\n",
       " 3 2024-09-18  Marketinq    Rasim  09:00:00  11:00:00\n",
       " 4 2024-08-19         IT    Aynur  09:00:00  11:00:00)"
      ]
     },
     "execution_count": 3,
     "metadata": {},
     "output_type": "execute_result"
    }
   ],
   "source": [
    "import pandas as pd\n",
    "\n",
    "# Load the provided Excel files\n",
    "attendance_data = pd.read_excel('data/attendance.xlsx')\n",
    "holiday_data = pd.read_excel('data/holiday.xlsx')\n",
    "permission_data = pd.read_excel('data/permission.xlsx')\n",
    "\n",
    "# Display the first few rows of each file to understand their structure\n",
    "attendance_data.head(), holiday_data.head(), permission_data.head()\n"
   ]
  },
  {
   "cell_type": "code",
   "execution_count": null,
   "metadata": {},
   "outputs": [],
   "source": [
    "# Convert Entry and Exit columns to datetime to calculate working hours\n",
    "attendance_data['Entry'] = pd.to_datetime(attendance_data['Entry'], format='%H:%M')\n",
    "attendance_data['Exit'] = pd.to_datetime(attendance_data['Exit'], format='%H:%M')\n",
    "\n",
    "# Calculate work hours per day for each employee\n",
    "attendance_data['Work_Hours'] = (attendance_data['Exit'] - attendance_data['Entry']).dt.total_seconds() / 3600\n",
    "\n",
    "# Now, we will calculate the total work hours, excluding permission times.\n",
    "# First, convert Start and End of permission to datetime\n",
    "permission_data['Start'] = pd.to_datetime(permission_data['Start'], format='%H:%M:%S')\n",
    "permission_data['End'] = pd.to_datetime(permission_data['End'], format='%H:%M:%S')\n",
    "\n",
    "# Calculate permission hours\n",
    "permission_data['Permission_Hours'] = (permission_data['End'] - permission_data['Start']).dt.total_seconds() / 3600\n",
    "\n",
    "# Merge attendance data with permission data on Date, Department, and Employee\n",
    "attendance_with_permission = pd.merge(attendance_data, permission_data[['Date', 'Department', 'Employee', 'Permission_Hours']], \n",
    "                                      on=['Date', 'Department', 'Employee'], how='left')\n",
    "\n",
    "# Subtract permission hours from work hours (if permission exists)\n",
    "attendance_with_permission['Adjusted_Work_Hours'] = attendance_with_permission['Work_Hours'] - attendance_with_permission['Permission_Hours'].fillna(0)\n",
    "\n",
    "# Display the adjusted work hours data\n",
    "import ace_tools as tools; tools.display_dataframe_to_user(name=\"Adjusted Attendance with Permissions\", dataframe=attendance_with_permission)\n"
   ]
  },
  {
   "cell_type": "code",
   "execution_count": null,
   "metadata": {},
   "outputs": [],
   "source": []
  }
 ],
 "metadata": {
  "kernelspec": {
   "display_name": ".venv",
   "language": "python",
   "name": "python3"
  },
  "language_info": {
   "codemirror_mode": {
    "name": "ipython",
    "version": 3
   },
   "file_extension": ".py",
   "mimetype": "text/x-python",
   "name": "python",
   "nbconvert_exporter": "python",
   "pygments_lexer": "ipython3",
   "version": "3.12.6"
  }
 },
 "nbformat": 4,
 "nbformat_minor": 2
}

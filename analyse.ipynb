{
 "cells": [
  {
   "cell_type": "code",
   "execution_count": null,
   "metadata": {},
   "outputs": [],
   "source": [
    "import pandas as pd\n",
    "\n",
    "# Load the provided Excel files\n",
    "attendance_data = pd.read_excel('data/attendance.xlsx')\n",
    "holiday_data = pd.read_excel('data/holiday.xlsx')\n",
    "permission_data = pd.read_excel('data/permission.xlsx')\n",
    "\n",
    "# Display the first few rows of each file to understand their structure\n",
    "attendance_data.head(), holiday_data.head(), permission_data.head()\n"
   ]
  },
  {
   "cell_type": "code",
   "execution_count": null,
   "metadata": {},
   "outputs": [],
   "source": []
  },
  {
   "cell_type": "code",
   "execution_count": null,
   "metadata": {},
   "outputs": [],
   "source": []
  }
 ],
 "metadata": {
  "language_info": {
   "name": "python"
  }
 },
 "nbformat": 4,
 "nbformat_minor": 2
}
